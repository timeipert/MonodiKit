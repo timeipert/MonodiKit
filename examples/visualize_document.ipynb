{
 "cells": [
  {
   "cell_type": "code",
   "execution_count": 2,
   "id": "initial_id",
   "metadata": {
    "collapsed": true,
    "ExecuteTime": {
     "end_time": "2023-10-16T11:02:11.821799Z",
     "start_time": "2023-10-16T11:02:11.800637Z"
    }
   },
   "outputs": [
    {
     "name": "stdout",
     "output_type": "stream",
     "text": [
      "The autoreload extension is already loaded. To reload it, use:\n",
      "  %reload_ext autoreload\n"
     ]
    }
   ],
   "source": [
    "\n",
    "%load_ext autoreload\n",
    "%autoreload 2\n",
    "import sys\n",
    "\n",
    "sys.path.append('..')\n",
    "import monodikit"
   ]
  },
  {
   "cell_type": "code",
   "execution_count": 3,
   "outputs": [
    {
     "name": "stdout",
     "output_type": "stream",
     "text": [
      "pkl does not exist.\n",
      "False Argument,  {'uuid': 'e28c6aa1-d426-4cd2-8518-c98f7ccf3967', 'kind': 'LineChange', 'focus': True}\n",
      "False Argument,  {'uuid': '8d8a8749-1b9a-4bae-8289-b4649a9ac05e', 'kind': 'Syllable', 'text': 'Ie-', 'syllableType': 'Normal', 'notes': {'spaced': [{'nonSpaced': [{'grouped': [{'uuid': '505aacf7-10fa-4b11-bba8-afae6213e726', 'base': 'F', 'octave': 4, 'noteType': 'Normal', 'focus': False, 'liquescent': False}]}]}]}}\n",
      "False Argument,  {'uuid': '8e0d4394-7502-4961-ad4c-e7da05d3ed2b', 'kind': 'Syllable', 'text': 'su', 'syllableType': 'Normal', 'notes': {'spaced': [{'nonSpaced': [{'grouped': [{'uuid': 'bc313037-6929-4520-b271-428f784c0f6b', 'base': 'E', 'octave': 4, 'noteType': 'Normal', 'focus': False, 'liquescent': False}, {'uuid': '3722a8d0-22cf-40fa-a17d-b1e17c57caad', 'base': 'F', 'octave': 4, 'noteType': 'Normal', 'focus': False, 'liquescent': False}, {'uuid': 'c5a4a7d3-9da2-4a3e-b121-2cfa914d6636', 'base': 'G', 'octave': 4, 'noteType': 'Normal', 'focus': False, 'liquescent': False}, {'uuid': '78a25ab8-c866-4820-85c0-04fec2881462', 'base': 'A', 'octave': 4, 'noteType': 'Normal', 'focus': False, 'liquescent': False}]}]}]}}\n",
      "False Argument,  {'uuid': '9db1ffa3-53d0-41c1-9c87-3cf831ac0852', 'kind': 'Syllable', 'text': 'no-', 'syllableType': 'Normal', 'notes': {'spaced': [{'nonSpaced': [{'grouped': [{'uuid': '67390e46-72bb-45c1-8b27-bd799c21f1d0', 'base': 'G', 'octave': 4, 'noteType': 'Normal', 'focus': False, 'liquescent': False}]}]}]}}\n",
      "False Argument,  {'uuid': 'b0d4675a-539b-4ef4-9c10-b869c4a2e44d', 'kind': 'Syllable', 'text': 'stra', 'syllableType': 'Normal', 'notes': {'spaced': [{'nonSpaced': [{'grouped': [{'uuid': '88f98e09-4637-44fb-9149-3682f36290e6', 'base': 'F', 'octave': 4, 'noteType': 'Normal', 'focus': False, 'liquescent': False}, {'uuid': 'cc798656-ea54-419c-be12-7cc082c0ff56', 'base': 'D', 'octave': 4, 'noteType': 'Normal', 'focus': False, 'liquescent': False}]}]}]}}\n",
      "False Argument,  {'uuid': 'a4951463-9fbd-4829-931a-ac4999b3242a', 'kind': 'Syllable', 'text': 'red-', 'syllableType': 'Normal', 'notes': {'spaced': [{'nonSpaced': [{'grouped': [{'uuid': '280b4c31-1435-4ac5-9228-466b9583ff93', 'base': 'F', 'octave': 4, 'noteType': 'Normal', 'focus': False, 'liquescent': False}]}]}]}}\n",
      "False Argument,  {'uuid': '4de28e49-300b-47b7-875c-5651c623f37a', 'kind': 'Syllable', 'text': 'em-', 'syllableType': 'Normal', 'notes': {'spaced': [{'nonSpaced': [{'grouped': [{'uuid': 'b2ed193f-4305-44be-a9f5-c371e8e03245', 'base': 'E', 'octave': 4, 'noteType': 'Normal', 'focus': False, 'liquescent': False}, {'uuid': 'ce9846cc-5ec9-4b9a-a6c3-a17cb8c4307e', 'base': 'F', 'octave': 4, 'noteType': 'Normal', 'focus': False, 'liquescent': False}]}]}]}}\n",
      "False Argument,  {'uuid': 'a23cf3ec-398c-41da-b3eb-827e0d8041c7', 'kind': 'Syllable', 'text': 'pti-', 'syllableType': 'Normal', 'notes': {'spaced': [{'nonSpaced': [{'grouped': [{'uuid': '9c09dee5-5ecb-422d-a5a6-df897f88274b', 'base': 'E', 'octave': 4, 'noteType': 'Normal', 'focus': False, 'liquescent': False}]}]}]}}\n",
      "False Argument,  {'uuid': '07290e15-b4cb-4d1f-bb28-d62ea1c2cf3a', 'kind': 'Syllable', 'text': 'o', 'syllableType': 'Normal', 'notes': {'spaced': [{'nonSpaced': [{'grouped': [{'uuid': '12464bb9-a2f0-4fcf-b45e-8608484878a6', 'base': 'E', 'octave': 4, 'noteType': 'Normal', 'focus': False, 'liquescent': False}]}]}]}}\n",
      "end __init__\n"
     ]
    }
   ],
   "source": [
    "corpus = monodikit.Corpus(\"../../data/*\")"
   ],
   "metadata": {
    "collapsed": false,
    "ExecuteTime": {
     "end_time": "2023-10-16T11:02:28.542748Z",
     "start_time": "2023-10-16T11:02:13.756770Z"
    }
   },
   "id": "632737887b57ce68"
  },
  {
   "cell_type": "code",
   "execution_count": 9,
   "outputs": [
    {
     "data": {
      "text/plain": "<IPython.core.display.HTML object>",
      "text/html": "<span style=\"font-family: volpiano; font-size: 20pt;\">g-l-l-l-m-l-k-k-l-k-m-l-l-g-l-l-m-l-k-j-h-k-k-l-k-k-k-l-k-k-g-h-g-g-h-k-k-l-n-n-n-l-k-k-k-k-l-k-m-l-k-k-k-k-k-h-j-k-j-j-h-h-k-j-k-k-m-l-k-k-k-k-k-k-k-k-k-l-k-k-j-j-h-k-m-l-h-k-k-k-k-k-h-h-h-k-h-k-g-h-g-g-k-l-l-l-l-l-l-l-m-n-m-l-k-k-k-j-h-g</span>"
     },
     "execution_count": 9,
     "metadata": {},
     "output_type": "execute_result"
    }
   ],
   "source": [
    "from IPython.core.display import HTML\n",
    "HTML(monodikit.Utility.volpiano_view(corpus.documents[0].volpiano, delimiter=\"-\"))"
   ],
   "metadata": {
    "collapsed": false,
    "ExecuteTime": {
     "end_time": "2023-10-16T11:04:33.815002Z",
     "start_time": "2023-10-16T11:04:31.289497Z"
    }
   },
   "id": "299f1e12a494c691"
  },
  {
   "cell_type": "code",
   "execution_count": null,
   "outputs": [],
   "source": [],
   "metadata": {
    "collapsed": false,
    "ExecuteTime": {
     "start_time": "2023-10-16T11:01:14.894421Z"
    }
   },
   "id": "bf639c411376eb86"
  }
 ],
 "metadata": {
  "kernelspec": {
   "display_name": "Python 3",
   "language": "python",
   "name": "python3"
  },
  "language_info": {
   "codemirror_mode": {
    "name": "ipython",
    "version": 2
   },
   "file_extension": ".py",
   "mimetype": "text/x-python",
   "name": "python",
   "nbconvert_exporter": "python",
   "pygments_lexer": "ipython2",
   "version": "2.7.6"
  }
 },
 "nbformat": 4,
 "nbformat_minor": 5
}
