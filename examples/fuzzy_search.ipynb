{
 "cells": [
  {
   "cell_type": "code",
   "execution_count": 1,
   "id": "initial_id",
   "metadata": {
    "ExecuteTime": {
     "end_time": "2023-10-18T11:36:45.614824Z",
     "start_time": "2023-10-18T11:36:45.588Z"
    }
   },
   "outputs": [],
   "source": [
    "%load_ext autoreload\n",
    "%autoreload 2\n",
    "import sys\n",
    "sys.path.append('..')\n",
    "import monodikit\n",
    "\n",
    "#filtered_corpus = corpus.filter(lambda doc_meta, src_meta: doc_meta.uuid in uuids)\n",
    "#print(filtered_corpus.documents[0].volpiano, filtered_corpus.documents[0].pitches)"
   ]
  },
  {
   "cell_type": "code",
   "execution_count": 2,
   "id": "11e2d2d368fb95d5",
   "metadata": {
    "collapsed": false,
    "ExecuteTime": {
     "end_time": "2023-10-18T11:37:03.954460Z",
     "start_time": "2023-10-18T11:36:48.919395Z"
    }
   },
   "outputs": [
    {
     "name": "stdout",
     "output_type": "stream",
     "text": [
      "Corpus Loaded\n"
     ]
    }
   ],
   "source": [
    "corpus = monodikit.Corpus(\"../../data/*\", use_pkl=\"corpus.pkl\")\n",
    "print(\"Corpus Loaded\")"
   ]
  },
  {
   "cell_type": "markdown",
   "id": "5a1ff5dbd375fb1b",
   "metadata": {
    "collapsed": false
   },
   "source": [
    "Search for a interval phrase ([1,1,-1,-1])"
   ]
  },
  {
   "cell_type": "code",
   "execution_count": 18,
   "id": "a33c45fe-b1ae-46c8-b414-93574f40185f",
   "metadata": {
    "collapsed": false,
    "ExecuteTime": {
     "end_time": "2023-10-18T12:08:05.080227Z",
     "start_time": "2023-10-18T12:08:01.247577Z"
    }
   },
   "outputs": [],
   "source": [
    "from IPython.display import HTML, display\n",
    "results = monodikit.Search.search_in_window(corpus, [\"D4\", \"E4\"], 3  )\n"
   ]
  },
  {
   "cell_type": "code",
   "execution_count": 21,
   "id": "ab536d42-be93-4cb5-a717-e3554b3367ca",
   "metadata": {
    "ExecuteTime": {
     "end_time": "2023-10-18T12:10:00.949439Z",
     "start_time": "2023-10-18T12:09:53.752120Z"
    }
   },
   "outputs": [],
   "source": [
    "result_html = monodikit.Search.visualize_html(results[0:2])\n",
    "with open(\"result.html\", \"w\") as f:\n",
    "    f.write(result_html)\n",
    "monodkit."
   ]
  },
  {
   "cell_type": "markdown",
   "id": "1c4284a3dd63cc6",
   "metadata": {
    "collapsed": false
   },
   "source": [
    "Search for pitch phrase within a window of 9 and visualize result with multiple sequence alignment."
   ]
  },
  {
   "cell_type": "code",
   "execution_count": 5,
   "id": "ebb7331d-968b-45b8-8ac6-267da43a8463",
   "metadata": {
    "ExecuteTime": {
     "end_time": "2023-10-18T11:15:00.133137Z",
     "start_time": "2023-10-18T11:14:56.995989Z"
    }
   },
   "outputs": [
    {
     "name": "stdout",
     "output_type": "stream",
     "text": [
      "BLOCKS [' Rou222-4-22-2\\\\nfedefefed\\\\n', ' Pa903-10v-5-2\\\\ndfdefefdf\\\\n', ' Pa903-149v-9-2\\\\nfcdefefgf\\\\n', ' Pa903-156-6-2\\\\neddefefgg\\\\n', ' Pa904-91-3-2\\\\nfedefefgh\\\\n', ' Pa904-92v-30-2\\\\nfedefefed\\\\n', ' Pa904-30-4-2\\\\nfedefefed\\\\n', ' Pa904-30-4-3\\\\ndcdefefed\\\\n', ' Ma19421-27v-11-2\\\\nefdefefgg\\\\n', ' Ma19421-27v-11-3\\\\ndcdefeffd\\\\n', ' Ma19421-27-8-2\\\\ncddefefgf\\\\n', \" Ma19421-25v-8-2\\\\nefdefefgg\\\\n'\"]\n"
     ]
    },
    {
     "ename": "TypeError",
     "evalue": "'SearchResult' object is not subscriptable",
     "output_type": "error",
     "traceback": [
      "\u001B[0;31m---------------------------------------------------------------------------\u001B[0m",
      "\u001B[0;31mTypeError\u001B[0m                                 Traceback (most recent call last)",
      "Cell \u001B[0;32mIn[5], line 4\u001B[0m\n\u001B[1;32m      2\u001B[0m mafft_input \u001B[38;5;241m=\u001B[39m monodikit\u001B[38;5;241m.\u001B[39mSearch\u001B[38;5;241m.\u001B[39mto_mafft_input(results[\u001B[38;5;241m0\u001B[39m:\u001B[38;5;241m10\u001B[39m], context\u001B[38;5;241m=\u001B[39m\u001B[38;5;241m2\u001B[39m)\n\u001B[1;32m      3\u001B[0m align \u001B[38;5;241m=\u001B[39m monodikit\u001B[38;5;241m.\u001B[39mSynopsis\u001B[38;5;241m.\u001B[39mrun_mafft(mafft_input)\n\u001B[0;32m----> 4\u001B[0m html \u001B[38;5;241m=\u001B[39m monodikit\u001B[38;5;241m.\u001B[39mSynopsis\u001B[38;5;241m.\u001B[39mvisualize_alignments(align, highlight\u001B[38;5;241m=\u001B[39m[segment[\u001B[38;5;124m\"\u001B[39m\u001B[38;5;124mids\u001B[39m\u001B[38;5;124m\"\u001B[39m] \u001B[38;5;28;01mfor\u001B[39;00m result \u001B[38;5;129;01min\u001B[39;00m results \u001B[38;5;28;01mfor\u001B[39;00m segment \u001B[38;5;129;01min\u001B[39;00m result[\u001B[38;5;124m\"\u001B[39m\u001B[38;5;124msegments\u001B[39m\u001B[38;5;124m\"\u001B[39m]], offset\u001B[38;5;241m=\u001B[39m\u001B[38;5;241m2\u001B[39m)\n\u001B[1;32m      6\u001B[0m HTML(html)\n",
      "Cell \u001B[0;32mIn[5], line 4\u001B[0m, in \u001B[0;36m<listcomp>\u001B[0;34m(.0)\u001B[0m\n\u001B[1;32m      2\u001B[0m mafft_input \u001B[38;5;241m=\u001B[39m monodikit\u001B[38;5;241m.\u001B[39mSearch\u001B[38;5;241m.\u001B[39mto_mafft_input(results[\u001B[38;5;241m0\u001B[39m:\u001B[38;5;241m10\u001B[39m], context\u001B[38;5;241m=\u001B[39m\u001B[38;5;241m2\u001B[39m)\n\u001B[1;32m      3\u001B[0m align \u001B[38;5;241m=\u001B[39m monodikit\u001B[38;5;241m.\u001B[39mSynopsis\u001B[38;5;241m.\u001B[39mrun_mafft(mafft_input)\n\u001B[0;32m----> 4\u001B[0m html \u001B[38;5;241m=\u001B[39m monodikit\u001B[38;5;241m.\u001B[39mSynopsis\u001B[38;5;241m.\u001B[39mvisualize_alignments(align, highlight\u001B[38;5;241m=\u001B[39m[segment[\u001B[38;5;124m\"\u001B[39m\u001B[38;5;124mids\u001B[39m\u001B[38;5;124m\"\u001B[39m] \u001B[38;5;28;01mfor\u001B[39;00m result \u001B[38;5;129;01min\u001B[39;00m results \u001B[38;5;28;01mfor\u001B[39;00m segment \u001B[38;5;129;01min\u001B[39;00m \u001B[43mresult\u001B[49m\u001B[43m[\u001B[49m\u001B[38;5;124;43m\"\u001B[39;49m\u001B[38;5;124;43msegments\u001B[39;49m\u001B[38;5;124;43m\"\u001B[39;49m\u001B[43m]\u001B[49m], offset\u001B[38;5;241m=\u001B[39m\u001B[38;5;241m2\u001B[39m)\n\u001B[1;32m      6\u001B[0m HTML(html)\n",
      "\u001B[0;31mTypeError\u001B[0m: 'SearchResult' object is not subscriptable"
     ]
    }
   ],
   "source": [
    "results = monodikit.Search.search_in_window(corpus, [\"D4\", \"E4\", \"F4\" ,\"E4\", \"F4\"], 5)\n",
    "mafft_input = monodikit.Search.to_mafft_input(results[0:10], context=2)\n",
    "align = monodikit.Synopsis.run_mafft(mafft_input)\n",
    "html = monodikit.Synopsis.visualize_alignments(align, highlight=[segment[\"ids\"] for result in results for segment in result[\"segments\"]], offset=2)\n",
    "\n",
    "HTML(html)\n",
    "\n",
    "\n",
    "\n",
    "\n"
   ]
  },
  {
   "cell_type": "markdown",
   "id": "ed38c2c3074c02a5",
   "metadata": {
    "collapsed": false
   },
   "source": [
    "Select \"Hodie cantandus\" trope and visualize it."
   ]
  },
  {
   "cell_type": "code",
   "execution_count": 33,
   "id": "03542bb7-da01-4814-b6f4-c1c5119a9f48",
   "metadata": {
    "ExecuteTime": {
     "end_time": "2023-10-12T10:30:30.981936Z",
     "start_time": "2023-10-12T10:30:27.119104Z"
    }
   },
   "outputs": [
    {
     "name": "stdout",
     "output_type": "stream",
     "text": [
      "BLOCKS [' Si 29-9v-11\\\\ndcd----ef-dcdd----cfghhgedefeddgg--hgfghkk-jh-jh-gghh--ghgfe\\\\nd--d-cdddcdffe--d-gg-dfedc-ddc-efgfhhgfedf-d-cddd-------h-gf\\\\ngh-kkjhghhkkl-lllk-jhjh--------------------------gfgh-hhhgf-\\\\ngfhh-fg-h--gfe-df-edccddd-----------------hhghgfedcd-fggf--f\\\\ng--hhg-jhgfhhhf-h-ffggh---------------------------------k--j\\\\nhgh---gffghk--ghk-------jh----ddf-ggfhkjgfefggg-------------\\\\n------------------------------------------------------------\\\\n------------------------------------------------------------\\\\n------------------------------------------------------------\\\\n---------------------------------------------\\\\n', ' Cai 72-15-6\\\\n-c---------cdd---dffgh--edefeddgg-hhgfghkk----jh-ghfhghjh-gc\\\\nefdd-c--dfdff--------de-dc---c-ffgfhhgfedc-e--fdd-------h-gf\\\\ngh-kkjhghkklk-kkjh-hhgh--------------------------gfgh-hhhgf-\\\\ngfhh-ddhhghgf--gf--e-cddd-----------------hhghgfedcd-fggf--f\\\\ng--jhg-hggfhhh--h-gfggh---------------------------------kk-j\\\\nhhg---gf-ghk--hhh----------gfgdcf-ggfh-g-fecddd--------gll--\\\\n-lmlkkkl---kmllg--------------------------------------------\\\\n-----llmlkjhk---------------------------------klk-kklkhjh---\\\\n----ghkklnn-lkk---------------------------------------------\\\\n---------------------------------------------\\\\n', ' Aa 13-107v-7\\\\ndc------f-dcddcddccfgh---f-feddgf-hhgfghkk-jj-jh--hfhh-gh-fe\\\\ndfed-cdddcdfff-ed-ggcdf-dc-ddc-ffgfhhgfedfed-cddd-------h-gf\\\\ngh-kkjhhhkklk-kllk-jkjh-------------------------jgf-h-hhjgf-\\\\ngfhh-fgjh-ggfe-df-ed-cddd-----------------hhgjgf-dcd-ffgf--f\\\\ng--jhg-jhgfhhhf-j-ffggg---------------------------------kkkj\\\\njjh---gf-ghkhjhhh------ggj-gfgddf-ggfhkg-fefggg--------gll--\\\\n-lnlklk-----mllgh--------hghgfg-------------hkkllkkhkjgf----\\\\n-hgggllnlkjhkklkkklkkgh-----gghhgfgkk--jhkllklkhkllkjgjjhkjh\\\\ngjhgghkjkl--lkkkjklllllglllklnmnonmlllklkhgjffggglllnlkkjkll\\\\nllgllkjllgjhfhkklkjhgjhgfhjkjgjhgg-----lllnlk\\\\n', ' Ox 340-17-7\\\\n------------------------------------------------------------\\\\n------------------------------------------------------------\\\\n------------------------------------------------------------\\\\n------------------------------------------------------------\\\\n------------------------------------------------------------\\\\n------------------------------------------------------------\\\\n------------------------------------------------------------\\\\n------------------------------------------------------------\\\\n------------------------------------------------------------\\\\n---------------------------------------------\\\\n', ' Wo 491-11v-3\\\\ndcd----ef-dcdd--cdcfgh---fdfeddgg--hgfghkk-jh-gf-ghfh--gh-fe\\\\ndf-d-cdddcdefd--d-ggcdf-dc---cfefgfhhgfedfdd-cddd-------h-gf\\\\ngh-kkjh-hhkkl-kllk-kk-h-------------------------jgf-h-hhjgf-\\\\ngfhh-fg-h-ggf--df--d-cddd-----------------hhghgfedcd-f-gf--f\\\\ng--hhg-jhgfhhhf-j-efggg---------------------------------kk-j\\\\nhgj---gfeghk--hhh------gjh-gfgddf-ggfhkg-gffggg-------------\\\\n------------------------------------------------------------\\\\n------------------------------------------------------------\\\\n------------------------------------------------------------\\\\n---------------------------------------------\\\\n', ' Be 792-23a-9\\\\ndcd----ef-dcdd--cedggh---fdfeddgg--hgfghkk-jh-jh-ghfh--gh-fe\\\\ndf-d-cdddcdef---d-ggcdf-dc--dc-efgfhhgfedf-d-cddd-------h-gf\\\\ngh-kkjhghhk-l-kllk-kk-h-------------------------jgf-h-hhjgf-\\\\ngfhh-fg-j-ggfe-df--d-cddd-----------------hhghgfedcd-efgf--f\\\\ng--hhg-jhgfhhhf-h-efggg---------------------------------kk-j\\\\nhgh---gfeghk--hhh-------gh-gfgddf-ggfhkg-fefggg-------------\\\\n------------------------------------------------------------\\\\n------------------------------------------------------------\\\\n------------------------------------------------------------\\\\n---------------------------------------------\\\\n', ' Halb 45-10v-4\\\\ndcd----ef-dcdd--ddcfgh---edfeddgg-fjgfghkk-jh-jh-ghfh--ghgfe\\\\ndfed-cdddcdfef--d-ggcdf-dc--dc-efgfhhgfedfed-cddd-------h-gf\\\\ngh-kkjhghhkkl-kllkkjkjh-------------------------jgf-h-hhjgf-\\\\ngfhh-fgjh-ggf--dffed-cddd-----------------hhghgfedcdffggf--f\\\\ng--hhgjjhgfhhhf-h-efggg---------------------------------kk-j\\\\nhghj--gfeghkkjhhh------ggj-gfgddf-ggfhkg-fefgggc---gggjgfff-\\\\n------------------------------------------------------------\\\\n------------------------------------------------------------\\\\n------------------------------------------------------------\\\\n------------------------f--------------------\\\\n', ' M\\\\xc3\\\\xbc 29307(2-2-1-I\\\\nh-------------------------------------gh-k------------------\\\\n--------------------------------------------------------h---\\\\ngh----hghhg---klmk-hkjhhllmlklmmonmmnmmkmlmkjhkhhgh-h-hghkj-\\\\nkjhhllg-h---------------------------------khghgjk----lkmm--l\\\\nk--jhk-jhghhhmlkl-mmnoonmmmopoppooomnlkmmmnlklkmmklnlllkhk-j\\\\nhgh-----------hhmmlmlkjhg------------hkj---------------kllkk\\\\nlmmlnml----kmmmkmmj---------------------------kllloonmlmnlkj\\\\nlmommmlmlklh------------------------------------------------\\\\n-----hkllkmolkjkl----llgllln---------lk---------------------\\\\n---------------------------------------------\\\\n', ' K\\\\xc3\\\\xb6n D-287a-1\\\\n------------------------------------------------------------\\\\n------------------------------------------------------------\\\\n------------------------------------------------------------\\\\n------------------------------------------hhghgf-dcd-f-gf--f\\\\ng--hhg-jhgfhhhf-j-ffggg---------------------------------kk--\\\\njjh---gfghhk-jhhh------ggj-gfgddf-ggfhkg-fefgggdhhhkhghgll--\\\\n-kklkjkjgfhkkllkhjkkjhjgfhgjgf--------------hkkllkjhghj-----\\\\n-ggglllnlkghh--------ghgfhkkgghhghgfh--fhkklllkhj-kkjfhjh---\\\\n---gghkknmn-lkk-------ggll------------khkghjhghgffhfhkklk-hf\\\\nhkgghkkklkkhkhk----------------------kkmlkkk-\\\\n', ' Ful 62-91-9\\\\nh-------------------------------------ghjk------------------\\\\n--------------------------------------------------------h---\\\\ngh----hgjh----llmk-hkjhhllmlklmoonmnmlmkmlmlkjhkhgh-h-hghjk-\\\\n---hll--h---------------------------------khghgjk----lkmm--l\\\\nk--jhk--hghhhmlkl-moonm-lmmopoppooomnlkmmmnlklkmmklnllkjhk-j\\\\nhgh-----------hhmmlmlkjhg------------hk------------------lkk\\\\nlmmlnml----kmmm-lnj---------------------------kllloonnnmlklm\\\\nmnommmlnlklh------------------------------------------------\\\\n-----hkllkmolkjklk---llgllln---------lk---------------------\\\\n---------------------------------------------\\\\n', ' Ei 610-609-1\\\\ndcd----ef-dcdd----dfgh---fdfeddg---hgfghkkjhh-jh-ghfgh-ghgfe\\\\nd--d-cdddcdf----d-g--df-dc--dc-ffgfhhgfed--d-cddd-------h-gf\\\\ngh-kkjhghhkkl-kllk-kkjh-------------------------hgf-h-hhhgf-\\\\ngfhh-fg---ggf--df-ed-cddd-----------------hhghgfedf----gf--f\\\\ng--hjg-jhgfjhh--h-efggh---------------------------------kj-h\\\\nh-----gfeghk--jhh-------gh-gfgddf-ggfhkg--efggg--------gll--\\\\n---------------gh--------hghg-g-------------hkjkllkhkkgf----\\\\n-hgglnmgfgjhgfgffgjjgjh-----ggfggfgjhjgjhgffgggjg-jgghghh--f\\\\ngjgfgjkllkgflkjkjh----ggj-------------kjhghgfgg-------------\\\\n------------------------fdefg----------------\\\\n', ' Pa 1235-196v-2\\\\ndcd----ff-dcdddfddcfgh---edfeddgghhhgfghkk-jh-jhgghfhh-gh-fe\\\\ndfedccdddcdfff-ed-gg-de-dc-ddc-efgfhhgfedfedccddd-------h-gf\\\\ngh-kkjhghhkll-kllk-kkjh-------------------------jgf-h-hhhgf-\\\\ngfhh-fghh-ggf--df-edccddd-----------------hhghgfed---fgghhgf\\\\ng--hhg--jgfhhhfhh-gfggh---------------------------------kk-h\\\\njhhghggffghk--hjh------hgh-gfgcdf-ggfhjg-gffggg--------gll--\\\\n-lmlkkk-----kfgghjk------hjhgfgghhgglmmlkkhfhklmlkhkghgfg-gh\\\\nhggglllmlkkkk----------------ghhgfg-----hklmklkhk-kkjhkjhgef\\\\ngfggghkjlmn-lkkkjh--------------------klkjhgfggggllmnmklk---\\\\n------------jhklmlkhkghgf---gghhggkjhkkmlkkkk\\\\n', ' WiSch 4/5-A-10\\\\ndcd----ef-dcdd-cddcfgh---edfeddgghhhgfghkk-jh-jh-ghfhh-ghgfe\\\\ndd-c-cdddcdffe--d-g--df-dc--dc-ffgfhhgfedc-d-cddd-------h-gf\\\\ngh-kkjhghhkkl-kllk-jkjh-------------------------jgf-h-hhhgf-\\\\ngfhh-fghh-ggf--df--d-cddd-----------------hhghgfedcdffggf--f\\\\ng--hhg-jhgfhhhfhh-efggg---------------------------------kk-j\\\\nhgjh--gf-ghk--jhh--------j-gfgdg--ggfhjg-fefggg--------gll--\\\\n-lmlk-------------------------------------------------------\\\\n------------------------------------------------------------\\\\n------------------------------------------------------------\\\\n---------------------------------------------\\\\n', ' Sal 20-15-9\\\\ndcd----efedcdd--cdcggh---fcfeddgg-hhgfghkk--h-jh-ghfh--ghgfe\\\\ndf-d-cdddcdffc--dcggddf-dc-ddc-efgfhhgfedf-d-cddd-------h-gf\\\\ngh-kkjhghhkkl-kllk-kkjh-------------------------jgf-h-hhjgf-\\\\ngfhh-fg-h--gfe-df--d-cddd-----------------hhghgfedcdffggf--f\\\\ng--hhg-jhgfjhhf-h-efggg---------------------------------kk-j\\\\nhgj---gfeghk-jhhh------ggh-gfgddf-ggfhkg-fefggg--------gll--\\\\n------------------------------------------------------------\\\\n------------------------------------------------------------\\\\n------------------------------------------------------------\\\\n---------------------------------------------\\\\n', ' Ut 417-44v-2\\\\ndc-----ef-dcdd--ddcfgh---edfeddgg--hgfghkk-jh-hh-ghfhh-gh-fe\\\\ndfed-cdddcdffefed-ggddf-dc--dc-efgfhhgfedfed-cddd-------h-gf\\\\ngh-kkjhghhkklkkllk-kkjh-------------------------jgf-h-hhjgf-\\\\ngfhh-fg-j-ggf--df-ed-cddd-----------------hhghgf-dcd-f-gf--f\\\\ng--jhg-jhgfhhhfjj-ffggg---------------------------------kk-j\\\\njjh---gfghhk-jhhh------ggh-gfgddf-ggfhkg-fefggg--------gll--\\\\n-lmlkjkl---kmll---------------------------------------------\\\\n------------------------------------------------------------\\\\n------------------------------------------------------------\\\\n---------------------------------------------\\\\n', ' M\\\\xc3\\\\xbcU 156-11-8\\\\ndcd----efddcdd--cedggh---fdfeddgg--hgfghkk--h-jh-ghgh--ghgfe\\\\ndf-d-cdddcdefe--d-ggcdfedc--dc-ffgfhhgfedf-d-cdddglllmlkh-gf\\\\ngh-kkjhghhkll-kllk-jkhg-------------------------fgj-hghhjgf-\\\\ngfhh-fg-h--gfe-df--d-cdddkjkllllllnkjkllllhhghgfedcd-ffgf--f\\\\ng--hhg-jhgfjhhfgf-efggg---------------------------------kk-j\\\\nhgh---gfeghj--hhhf-----hgh-gfgddf-ggfhkg-fefggg--------gll--\\\\n-lmlkjk-----------------------------------------------------\\\\n------------------------------------------------------------\\\\n------------------------------------------------------------\\\\n---------------------------------------------\\\\n', ' Nau I-11-11\\\\ndcd----ef-dcdd---ddfgh---fdfeddgg--hgfghkk--h-jh-ghfh--ghgfe\\\\ndf-d-cdddcdefc--dcggcdf-dc--dc-efgfhhgfedfed-cddd-------h-gf\\\\ngh-kkjhghhk-l-kllk-kk-h-------------------------jgf-h-hhjgf-\\\\ngfhh-fgjh-ggfe-df--d-cddd-----------------hhghgfedcd-fggf--f\\\\ng--hhg-jhgfhhhf-j-ffggg---------------------------------kk-j\\\\nhgj---gfeghk--hhh-------gh-gfgcdf-ggfhkg-fefggg-------------\\\\n------------------------------------------------------------\\\\n------------------------------------------------------------\\\\n------------------------------------------------------------\\\\n---------------------------------------------\\\\n', ' Ka 5-165v-7\\\\ndcd-----f-dcdd--cdcfgh---fdfeddgg--hgfghkk-jh-jh-ghfh--gh-fe\\\\ndf-d-cdddcdef---d-ggcdf-dc--dc-efgfhhgfedf-d-cddd-------h-gf\\\\ngh-kkjhghhkkl-kllk-kk-h-------------------------jgf-h-hhjgf-\\\\ngfhh-fg-j-ggfe-df-ed-cddd------------------ggfgfedcd-fggf--f\\\\ng--hhg-jhgfhhhf-h-efggg---------------------------------kk--\\\\njjh---gfghjk--hhh-------gj-gfgddf-ggfhkg-fefggg--------gl---\\\\n------------------------------------------------------------\\\\n------------------------------------------------------------\\\\n------------------------------------------------------------\\\\n---------------------------------------------\\\\n', ' SCan 7-13v-9\\\\ndcd----ef-dcdd--cedggh---fdfeddgg--hgfghjkkhh-jhgghfhg-jhgfe\\\\ndf-d-cdddcdefe--d-ggfdf-dc--dc-ffgfhhgfedf-d-cddd-------h-gf\\\\nghjkkjhghhkll-k-lk-jhhk-------------------------ggfgh-hhhgf-\\\\ngfhh-fg-h-ggfefdf--d-cddd-----------------hhghgfedcd---gf--f\\\\ng--hhghjhgfhhhf-h-ffggh---------------------------------kk-j\\\\nhgh---gfeghk--hhh-------gh-gfgcdf-ggfh-g-fefggg-------------\\\\n------------------------------------------------------------\\\\n------------------------------------------------------------\\\\n------------------------------------------------------------\\\\n---------------------------------------------\\\\n', ' NY 905-I, 21-6\\\\ndcd----ef-dcdd--dedggh---fdfeddgg--hgfghkk--h-jh-g-fh--gh-fe\\\\ndf-c-ddddcdef---d-gg-df-dc---c-efgfhhgfedf-d-cddd-------h-gf\\\\ngh-kkjhghhk-l-kllk-kk-h-------------------------jgf-h-hhjgf-\\\\ngfhh-fg-j-ggfe-df--d-cddd-----------------hhghgfedcd-fggf--f\\\\ng--hhg-jhgfhhhf-h-efggg---------------------------------kk-j\\\\nhgh---gfeghk--hhh-------gh-gfgddf-ggfhkg-fefggg-------------\\\\n------------------------------------------------------------\\\\n------------------------------------------------------------\\\\n------------------------------------------------------------\\\\n---------------------------------------------\\\\n', ' Gr 807-167-2\\\\ndcd----ef-dcdd-cddcfgh---edfeddgg-hhgfghkk-jhjjh-ghfhh-gh-fe\\\\ndfed-cdddcdefe--d-ggcdf-dc--dcfefgfhhgfedfed-cddd-------h-gf\\\\ngh-kkjhghhklk-kllk-kkjh-------------------------jgfgg-hhjgf-\\\\ngfhh-fg-h-ggf--df-ed-cddd-----------------hhghgfedcd-ffgf--f\\\\ng--hhghjhgfhhhfhhfefggg---------------------------------lk-j\\\\nhghhj-gfeghk-jhhh------ggh-gfgcdf-ggfhjg-fefggg--------gll--\\\\n-lmlk-------------------------------------------------------\\\\n------------------------------------------------------------\\\\n------------------------------------------------------------\\\\n---------------------------------------------\\\\n', ' W\\\\xc3\\\\xbc 165-11-9\\\\ndcd----fg-fcdd--ddcfgh---fdfeddgg--hgfghkk-jh-jh-ghfh--gh-f-\\\\ndf-d-cdddcdefe--d-ggfdf-dc---c-ffgfhhgfedfed-cddd-------h-gf\\\\ngh-kkjhghhkkl-kllk-kkjh-------------------------jgf-h-hhjgf-\\\\ngfhh-fg-j-ggf--df--d-cddd-----------------hhghgf-dcd-fggf--f\\\\ng--jhg-jhgfhhhf-h-efggg---------------------------------kkjh\\\\nhjh---gf-ghk--jhhj-----hgj-gfgddf-ggfhkg-fefggg-------------\\\\n------------------------------------------------------------\\\\n------------------------------------------------------------\\\\n------------------------------------------------------------\\\\n---------------------------------------------\\\\n', ' Be 40078-245-1\\\\ndc------f-dcdd-cddcfgh---edfeddgg-hhgfghkk-jh-jh-ghfhh-gh-fe\\\\ndfed-cdddcdffe-dd-ggcdf-dc--dc-efgfhhgfedfed-cddd-------h-gf\\\\ngh-kkjhghhkklkkllk-kkjhj------------------------hgf-h-hhjgf-\\\\ngfhh-fgjg-ggf--df--d-cddd-----------------hhghgf-dcd-ffgf--f\\\\ng--hhg-jhgfhhhfhh-efggg---------------------------------kk-j\\\\nhghjh-gf-ghk--hhh------ggh-gfgddf-ggfhkg-fefggg--------gll--\\\\n------------------------------------------------------------\\\\n------------------------------------------------------------\\\\n------------------------------------------------------------\\\\n---------------------------------------------\\\\n', ' Ba 45-16v-5\\\\ndcd----ef-dcdd--cedggh---fdfeddgg--hgfghkk--h-jh-g-fh--gh-fe\\\\ndfed-cdddcdffe--d-ggedf-dc---c-efgfhhgfedf-d-cddd-------h-gf\\\\ngh-kkjhghhkll-klkk-kj-h-------------------------jgf-h-hhjgf-\\\\ngfhh-fg-j-hgfe-df--d-cddd-----------------hhghgfedcd-fggf--f\\\\ng--hhg-jhgfhhhf-h-efggg---------------------------------kk-j\\\\nhgh---gfeghk--hhh------ggh-gfgddf-ggfhkg-fefggg-------------\\\\n------------------------------------------------------------\\\\n------------------------------------------------------------\\\\n------------------------------------------------------------\\\\n---------------------------------------------\\\\n', ' Ver 10-155v-1\\\\ndcd----ef-dcdddfddcfgh--eedfeddgghhhgfghkk-jh-jh-ghfhhhgh-fe\\\\ndf-d-cdddcdfff-fd-gggdf-dcdddc-efgfhhgfedefd-cddd-------hggf\\\\ngh-kkjhgghhkl-kllkkkkkh-------------------------jgf-h-hhhgfg\\\\ngfhh-fghgggef--dffed-cdddh----------------hhghgfedcdffggf--f\\\\ngghhhgjjhgfhhhfhf-ffggh---------------------------------kkjj\\\\nhghhhggfhkhh--hhh-------ghggfgcdfgggfhkgffefgggc---gggjgfff-\\\\n------------------------------------------------------------\\\\n------------------------------------------------------------\\\\n------------------------------------------------------------\\\\n------------------------f--------------------\\\\n', \" Rou 250-17-8\\\\ndffeggfef-dcdddeddcfgh----efeddgghhhgfghkk-jh-jh-ghfhh-gh-fe\\\\ndffd-cdddcdfff-ed-gg-de-dc-ddc-ffgfhhgfedffd-cddd-------h-gf\\\\ngh-kkjhghhkkl-lllk---kh--------------------------gfgh-hhhgf-\\\\ngfhhgfghhhfgf--df-ed-cddd-----------------hhghgf-dcf-fggf--f\\\\ng--hhg-jhgfhhhfhh-ffggh---------------------------------kk-j\\\\nhgjj--hhhghj--kjh------hgh-gf-ddf-ggfhjg--gfggg-------------\\\\n------------------------------------------------------------\\\\n------------------------------------------------------------\\\\n------------------------------------------------------------\\\\n---------------------------------------------\\\\n'\"]\n"
     ]
    }
   ],
   "source": [
    "filtered_corpus = corpus.filter(lambda doc_meta, src_meta: doc_meta.initial_text == \"Hodie cantandus est\")"
   ]
  },
  {
   "cell_type": "markdown",
   "id": "ec247e9fd74624f",
   "metadata": {
    "collapsed": false
   },
   "source": []
  },
  {
   "cell_type": "code",
   "execution_count": null,
   "id": "1aa3665d9d6f15a3",
   "metadata": {
    "ExecuteTime": {
     "start_time": "2023-10-11T16:39:12.212537Z"
    },
    "collapsed": false
   },
   "outputs": [],
   "source": [
    "align2 = monodikit.Synopsis.run_mafft({document.meta.document_id: \"\".join(document.volpiano) for document in filtered_corpus.documents})\n",
    "html2 = monodikit.Synopsis.visualize_alignments(align2)\n",
    "with open(\"synopsis_Hodie_cantandus_est.html\", \"w\") as f:\n",
    "    f.write(html2)\n"
   ]
  },
  {
   "cell_type": "markdown",
   "id": "f374c007-f650-4f7a-88a5-498401a754eb",
   "metadata": {},
   "source": []
  }
 ],
 "metadata": {
  "kernelspec": {
   "display_name": "Python 3 (ipykernel)",
   "language": "python",
   "name": "python3"
  },
  "language_info": {
   "codemirror_mode": {
    "name": "ipython",
    "version": 3
   },
   "file_extension": ".py",
   "mimetype": "text/x-python",
   "name": "python",
   "nbconvert_exporter": "python",
   "pygments_lexer": "ipython3",
   "version": "3.10.9"
  }
 },
 "nbformat": 4,
 "nbformat_minor": 5
}
