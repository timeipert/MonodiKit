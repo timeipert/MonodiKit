{
 "cells": [
  {
   "cell_type": "code",
   "execution_count": 2,
   "id": "initial_id",
   "metadata": {
    "collapsed": true,
    "ExecuteTime": {
     "end_time": "2023-10-06T17:20:38.900513Z",
     "start_time": "2023-10-06T17:20:38.886265Z"
    }
   },
   "outputs": [
    {
     "ename": "TypeError",
     "evalue": "Corpus.__init__() got an unexpected keyword argument 'use_pkl'",
     "output_type": "error",
     "traceback": [
      "\u001B[0;31m---------------------------------------------------------------------------\u001B[0m",
      "\u001B[0;31mTypeError\u001B[0m                                 Traceback (most recent call last)",
      "Cell \u001B[0;32mIn[2], line 5\u001B[0m\n\u001B[1;32m      2\u001B[0m sys\u001B[38;5;241m.\u001B[39mpath\u001B[38;5;241m.\u001B[39mappend(\u001B[38;5;124m'\u001B[39m\u001B[38;5;124m..\u001B[39m\u001B[38;5;124m'\u001B[39m)\n\u001B[1;32m      3\u001B[0m \u001B[38;5;28;01mimport\u001B[39;00m \u001B[38;5;21;01mmonodikit\u001B[39;00m\n\u001B[0;32m----> 5\u001B[0m corpus \u001B[38;5;241m=\u001B[39m \u001B[43mmonodikit\u001B[49m\u001B[38;5;241;43m.\u001B[39;49m\u001B[43mCorpus\u001B[49m\u001B[43m(\u001B[49m\u001B[38;5;124;43m\"\u001B[39;49m\u001B[38;5;124;43m../../data/*\u001B[39;49m\u001B[38;5;124;43m\"\u001B[39;49m\u001B[43m,\u001B[49m\u001B[43m \u001B[49m\u001B[43muse_pkl\u001B[49m\u001B[38;5;241;43m=\u001B[39;49m\u001B[38;5;124;43m\"\u001B[39;49m\u001B[38;5;124;43mcorpus.pkl\u001B[39;49m\u001B[38;5;124;43m\"\u001B[39;49m\u001B[43m)\u001B[49m\n\u001B[1;32m      6\u001B[0m \u001B[38;5;28mprint\u001B[39m(\u001B[38;5;124m\"\u001B[39m\u001B[38;5;124mCorpus Loaded\u001B[39m\u001B[38;5;124m\"\u001B[39m)\n\u001B[1;32m      9\u001B[0m \u001B[38;5;66;03m#filtered_corpus = corpus.filter(lambda doc_meta, src_meta: doc_meta.uuid in uuids)\u001B[39;00m\n\u001B[1;32m     10\u001B[0m \n\u001B[1;32m     11\u001B[0m \u001B[38;5;66;03m#print(filtered_corpus.documents[0].volpiano, filtered_corpus.documents[0].pitches)\u001B[39;00m\n",
      "\u001B[0;31mTypeError\u001B[0m: Corpus.__init__() got an unexpected keyword argument 'use_pkl'"
     ]
    }
   ],
   "source": [
    "import sys\n",
    "sys.path.append('..')\n",
    "import monodikit\n",
    "\n",
    "corpus = monodikit.Corpus(\"../../data/*\", use_pkl=\"corpus.pkl\")\n",
    "print(\"Corpus Loaded\")\n",
    "\n",
    "\n",
    "#filtered_corpus = corpus.filter(lambda doc_meta, src_meta: doc_meta.uuid in uuids)\n",
    "\n",
    "#print(filtered_corpus.documents[0].volpiano, filtered_corpus.documents[0].pitches)"
   ]
  },
  {
   "cell_type": "code",
   "execution_count": null,
   "outputs": [],
   "source": [
    "result = monodikit.search_in_window(corpus, [\"A4\", \"B4\", \"C4\", \"A4\"], 8)\n",
    "print(len(result))\n",
    "print(result[0][\"chant\"].volpiano)\n",
    "print(result[0][\"segments\"])"
   ],
   "metadata": {
    "collapsed": false
   },
   "id": "8a8060e5af1a8653"
  }
 ],
 "metadata": {
  "kernelspec": {
   "display_name": "Python 3",
   "language": "python",
   "name": "python3"
  },
  "language_info": {
   "codemirror_mode": {
    "name": "ipython",
    "version": 2
   },
   "file_extension": ".py",
   "mimetype": "text/x-python",
   "name": "python",
   "nbconvert_exporter": "python",
   "pygments_lexer": "ipython2",
   "version": "2.7.6"
  }
 },
 "nbformat": 4,
 "nbformat_minor": 5
}
